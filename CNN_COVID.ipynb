{
 "cells": [
  {
   "cell_type": "code",
   "execution_count": 1,
   "id": "b3fb4ca1",
   "metadata": {},
   "outputs": [
    {
     "name": "stdout",
     "output_type": "stream",
     "text": [
      "Using PyTorch version 1.11.0+cu102\n"
     ]
    }
   ],
   "source": [
    "%matplotlib inline\n",
    "\n",
    "import os\n",
    "import time\n",
    "import copy\n",
    "import shutil\n",
    "import random\n",
    "import torch\n",
    "import torchvision\n",
    "from torchvision import *\n",
    "from torchvision import transforms\n",
    "from torch.utils.data import Dataset, DataLoader\n",
    "import pandas as pd\n",
    "import numpy as np\n",
    "from torch import nn\n",
    "import torch.nn.functional as F\n",
    "import torch.optim as optim\n",
    "import cv2\n",
    "from PIL import *\n",
    "from matplotlib import pyplot as plt\n",
    "import seaborn as sns\n",
    "import glob\n",
    "\n",
    "torch.manual_seed(0)\n",
    "seed = 123\n",
    "random.seed(seed)\n",
    "\n",
    "print('Using PyTorch version', torch.__version__)"
   ]
  },
  {
   "cell_type": "code",
   "execution_count": 2,
   "id": "bcb617ad",
   "metadata": {},
   "outputs": [],
   "source": [
    "os.environ[\"KMP_DUPLICATE_LIB_OK\"]=\"TRUE\""
   ]
  },
  {
   "cell_type": "code",
   "execution_count": 3,
   "id": "7d451654",
   "metadata": {},
   "outputs": [],
   "source": [
    "os.environ[\"CUDA_DEVICE_ORDER\"]=\"PCI_BUS_ID\""
   ]
  },
  {
   "cell_type": "code",
   "execution_count": 4,
   "id": "9cba122a",
   "metadata": {},
   "outputs": [],
   "source": [
    "device = torch.device(\"cuda:1\" if torch.cuda.is_available() else \"cpu\")"
   ]
  },
  {
   "cell_type": "code",
   "execution_count": 5,
   "id": "330e81b2",
   "metadata": {},
   "outputs": [
    {
     "name": "stdout",
     "output_type": "stream",
     "text": [
      "['Solarize_Light2', '_classic_test_patch', 'bmh', 'classic', 'dark_background', 'fast', 'fivethirtyeight', 'ggplot', 'grayscale', 'seaborn', 'seaborn-bright', 'seaborn-colorblind', 'seaborn-dark', 'seaborn-dark-palette', 'seaborn-darkgrid', 'seaborn-deep', 'seaborn-muted', 'seaborn-notebook', 'seaborn-paper', 'seaborn-pastel', 'seaborn-poster', 'seaborn-talk', 'seaborn-ticks', 'seaborn-white', 'seaborn-whitegrid', 'tableau-colorblind10']\n"
     ]
    }
   ],
   "source": [
    "print(plt.style.available)"
   ]
  },
  {
   "cell_type": "code",
   "execution_count": 6,
   "id": "df9b1fcd",
   "metadata": {},
   "outputs": [],
   "source": [
    "plt.style.use(\"Solarize_Light2\")"
   ]
  },
  {
   "cell_type": "markdown",
   "id": "7b92b2b5",
   "metadata": {},
   "source": [
    "# Exploratory data analysis"
   ]
  },
  {
   "cell_type": "code",
   "execution_count": 7,
   "id": "22766306",
   "metadata": {},
   "outputs": [
    {
     "data": {
      "text/html": [
       "<div>\n",
       "<style scoped>\n",
       "    .dataframe tbody tr th:only-of-type {\n",
       "        vertical-align: middle;\n",
       "    }\n",
       "\n",
       "    .dataframe tbody tr th {\n",
       "        vertical-align: top;\n",
       "    }\n",
       "\n",
       "    .dataframe thead th {\n",
       "        text-align: right;\n",
       "    }\n",
       "</style>\n",
       "<table border=\"1\" class=\"dataframe\">\n",
       "  <thead>\n",
       "    <tr style=\"text-align: right;\">\n",
       "      <th></th>\n",
       "      <th>FILE NAME</th>\n",
       "      <th>FORMAT</th>\n",
       "      <th>SIZE</th>\n",
       "      <th>URL</th>\n",
       "    </tr>\n",
       "  </thead>\n",
       "  <tbody>\n",
       "    <tr>\n",
       "      <th>0</th>\n",
       "      <td>COVID-1</td>\n",
       "      <td>PNG</td>\n",
       "      <td>256*256</td>\n",
       "      <td>https://sirm.org/category/senza-categoria/covi...</td>\n",
       "    </tr>\n",
       "    <tr>\n",
       "      <th>1</th>\n",
       "      <td>COVID-2</td>\n",
       "      <td>PNG</td>\n",
       "      <td>256*256</td>\n",
       "      <td>https://sirm.org/category/senza-categoria/covi...</td>\n",
       "    </tr>\n",
       "    <tr>\n",
       "      <th>2</th>\n",
       "      <td>COVID-3</td>\n",
       "      <td>PNG</td>\n",
       "      <td>256*256</td>\n",
       "      <td>https://sirm.org/category/senza-categoria/covi...</td>\n",
       "    </tr>\n",
       "    <tr>\n",
       "      <th>3</th>\n",
       "      <td>COVID-4</td>\n",
       "      <td>PNG</td>\n",
       "      <td>256*256</td>\n",
       "      <td>https://sirm.org/category/senza-categoria/covi...</td>\n",
       "    </tr>\n",
       "    <tr>\n",
       "      <th>4</th>\n",
       "      <td>COVID-5</td>\n",
       "      <td>PNG</td>\n",
       "      <td>256*256</td>\n",
       "      <td>https://sirm.org/category/senza-categoria/covi...</td>\n",
       "    </tr>\n",
       "  </tbody>\n",
       "</table>\n",
       "</div>"
      ],
      "text/plain": [
       "  FILE NAME FORMAT     SIZE                                                URL\n",
       "0   COVID-1    PNG  256*256  https://sirm.org/category/senza-categoria/covi...\n",
       "1   COVID-2    PNG  256*256  https://sirm.org/category/senza-categoria/covi...\n",
       "2   COVID-3    PNG  256*256  https://sirm.org/category/senza-categoria/covi...\n",
       "3   COVID-4    PNG  256*256  https://sirm.org/category/senza-categoria/covi...\n",
       "4   COVID-5    PNG  256*256  https://sirm.org/category/senza-categoria/covi..."
      ]
     },
     "execution_count": 7,
     "metadata": {},
     "output_type": "execute_result"
    }
   ],
   "source": [
    "covid_data = pd.read_excel('../dataset/COVID-19_Radiography_Dataset/COVID.metadata.xlsx',sheet_name = 0)\n",
    "covid_data.head()"
   ]
  },
  {
   "cell_type": "code",
   "execution_count": 8,
   "id": "20efde23",
   "metadata": {},
   "outputs": [
    {
     "data": {
      "text/html": [
       "<div>\n",
       "<style scoped>\n",
       "    .dataframe tbody tr th:only-of-type {\n",
       "        vertical-align: middle;\n",
       "    }\n",
       "\n",
       "    .dataframe tbody tr th {\n",
       "        vertical-align: top;\n",
       "    }\n",
       "\n",
       "    .dataframe thead th {\n",
       "        text-align: right;\n",
       "    }\n",
       "</style>\n",
       "<table border=\"1\" class=\"dataframe\">\n",
       "  <thead>\n",
       "    <tr style=\"text-align: right;\">\n",
       "      <th></th>\n",
       "      <th>FILE NAME</th>\n",
       "      <th>FORMAT</th>\n",
       "      <th>SIZE</th>\n",
       "      <th>URL</th>\n",
       "    </tr>\n",
       "  </thead>\n",
       "  <tbody>\n",
       "    <tr>\n",
       "      <th>0</th>\n",
       "      <td>Lung_Opacity-1</td>\n",
       "      <td>PNG</td>\n",
       "      <td>256*256</td>\n",
       "      <td>https://www.kaggle.com/c/rsna-pneumonia-detect...</td>\n",
       "    </tr>\n",
       "    <tr>\n",
       "      <th>1</th>\n",
       "      <td>Lung_Opacity-2</td>\n",
       "      <td>PNG</td>\n",
       "      <td>256*256</td>\n",
       "      <td>https://www.kaggle.com/c/rsna-pneumonia-detect...</td>\n",
       "    </tr>\n",
       "    <tr>\n",
       "      <th>2</th>\n",
       "      <td>Lung_Opacity-3</td>\n",
       "      <td>PNG</td>\n",
       "      <td>256*256</td>\n",
       "      <td>https://www.kaggle.com/c/rsna-pneumonia-detect...</td>\n",
       "    </tr>\n",
       "    <tr>\n",
       "      <th>3</th>\n",
       "      <td>Lung_Opacity-4</td>\n",
       "      <td>PNG</td>\n",
       "      <td>256*256</td>\n",
       "      <td>https://www.kaggle.com/c/rsna-pneumonia-detect...</td>\n",
       "    </tr>\n",
       "    <tr>\n",
       "      <th>4</th>\n",
       "      <td>Lung_Opacity-5</td>\n",
       "      <td>PNG</td>\n",
       "      <td>256*256</td>\n",
       "      <td>https://www.kaggle.com/c/rsna-pneumonia-detect...</td>\n",
       "    </tr>\n",
       "  </tbody>\n",
       "</table>\n",
       "</div>"
      ],
      "text/plain": [
       "        FILE NAME FORMAT     SIZE  \\\n",
       "0  Lung_Opacity-1    PNG  256*256   \n",
       "1  Lung_Opacity-2    PNG  256*256   \n",
       "2  Lung_Opacity-3    PNG  256*256   \n",
       "3  Lung_Opacity-4    PNG  256*256   \n",
       "4  Lung_Opacity-5    PNG  256*256   \n",
       "\n",
       "                                                 URL  \n",
       "0  https://www.kaggle.com/c/rsna-pneumonia-detect...  \n",
       "1  https://www.kaggle.com/c/rsna-pneumonia-detect...  \n",
       "2  https://www.kaggle.com/c/rsna-pneumonia-detect...  \n",
       "3  https://www.kaggle.com/c/rsna-pneumonia-detect...  \n",
       "4  https://www.kaggle.com/c/rsna-pneumonia-detect...  "
      ]
     },
     "execution_count": 8,
     "metadata": {},
     "output_type": "execute_result"
    }
   ],
   "source": [
    "opacity_data = pd.read_excel('../dataset/COVID-19_Radiography_Dataset/Lung_Opacity.metadata.xlsx',sheet_name = 0)\n",
    "opacity_data.head()"
   ]
  },
  {
   "cell_type": "code",
   "execution_count": 9,
   "id": "f843909d",
   "metadata": {},
   "outputs": [
    {
     "data": {
      "text/html": [
       "<div>\n",
       "<style scoped>\n",
       "    .dataframe tbody tr th:only-of-type {\n",
       "        vertical-align: middle;\n",
       "    }\n",
       "\n",
       "    .dataframe tbody tr th {\n",
       "        vertical-align: top;\n",
       "    }\n",
       "\n",
       "    .dataframe thead th {\n",
       "        text-align: right;\n",
       "    }\n",
       "</style>\n",
       "<table border=\"1\" class=\"dataframe\">\n",
       "  <thead>\n",
       "    <tr style=\"text-align: right;\">\n",
       "      <th></th>\n",
       "      <th>FILE NAME</th>\n",
       "      <th>FORMAT</th>\n",
       "      <th>SIZE</th>\n",
       "      <th>URL</th>\n",
       "    </tr>\n",
       "  </thead>\n",
       "  <tbody>\n",
       "    <tr>\n",
       "      <th>0</th>\n",
       "      <td>NORMAL-1</td>\n",
       "      <td>PNG</td>\n",
       "      <td>256*256</td>\n",
       "      <td>https://www.kaggle.com/c/rsna-pneumonia-detect...</td>\n",
       "    </tr>\n",
       "    <tr>\n",
       "      <th>1</th>\n",
       "      <td>NORMAL-2</td>\n",
       "      <td>PNG</td>\n",
       "      <td>256*256</td>\n",
       "      <td>https://www.kaggle.com/c/rsna-pneumonia-detect...</td>\n",
       "    </tr>\n",
       "    <tr>\n",
       "      <th>2</th>\n",
       "      <td>NORMAL-3</td>\n",
       "      <td>PNG</td>\n",
       "      <td>256*256</td>\n",
       "      <td>https://www.kaggle.com/c/rsna-pneumonia-detect...</td>\n",
       "    </tr>\n",
       "    <tr>\n",
       "      <th>3</th>\n",
       "      <td>NORMAL-4</td>\n",
       "      <td>PNG</td>\n",
       "      <td>256*256</td>\n",
       "      <td>https://www.kaggle.com/c/rsna-pneumonia-detect...</td>\n",
       "    </tr>\n",
       "    <tr>\n",
       "      <th>4</th>\n",
       "      <td>NORMAL-5</td>\n",
       "      <td>PNG</td>\n",
       "      <td>256*256</td>\n",
       "      <td>https://www.kaggle.com/c/rsna-pneumonia-detect...</td>\n",
       "    </tr>\n",
       "  </tbody>\n",
       "</table>\n",
       "</div>"
      ],
      "text/plain": [
       "  FILE NAME FORMAT     SIZE                                                URL\n",
       "0  NORMAL-1    PNG  256*256  https://www.kaggle.com/c/rsna-pneumonia-detect...\n",
       "1  NORMAL-2    PNG  256*256  https://www.kaggle.com/c/rsna-pneumonia-detect...\n",
       "2  NORMAL-3    PNG  256*256  https://www.kaggle.com/c/rsna-pneumonia-detect...\n",
       "3  NORMAL-4    PNG  256*256  https://www.kaggle.com/c/rsna-pneumonia-detect...\n",
       "4  NORMAL-5    PNG  256*256  https://www.kaggle.com/c/rsna-pneumonia-detect..."
      ]
     },
     "execution_count": 9,
     "metadata": {},
     "output_type": "execute_result"
    }
   ],
   "source": [
    "normal_data = pd.read_excel('../dataset/COVID-19_Radiography_Dataset/Normal.metadata.xlsx',sheet_name = 0)\n",
    "normal_data.head()"
   ]
  },
  {
   "cell_type": "code",
   "execution_count": 10,
   "id": "814998bb",
   "metadata": {},
   "outputs": [
    {
     "data": {
      "text/html": [
       "<div>\n",
       "<style scoped>\n",
       "    .dataframe tbody tr th:only-of-type {\n",
       "        vertical-align: middle;\n",
       "    }\n",
       "\n",
       "    .dataframe tbody tr th {\n",
       "        vertical-align: top;\n",
       "    }\n",
       "\n",
       "    .dataframe thead th {\n",
       "        text-align: right;\n",
       "    }\n",
       "</style>\n",
       "<table border=\"1\" class=\"dataframe\">\n",
       "  <thead>\n",
       "    <tr style=\"text-align: right;\">\n",
       "      <th></th>\n",
       "      <th>FILE NAME</th>\n",
       "      <th>FORMAT</th>\n",
       "      <th>SIZE</th>\n",
       "      <th>URL</th>\n",
       "    </tr>\n",
       "  </thead>\n",
       "  <tbody>\n",
       "    <tr>\n",
       "      <th>0</th>\n",
       "      <td>Viral Pneumonia-1</td>\n",
       "      <td>PNG</td>\n",
       "      <td>256*256</td>\n",
       "      <td>https://www.kaggle.com/paultimothymooney/chest...</td>\n",
       "    </tr>\n",
       "    <tr>\n",
       "      <th>1</th>\n",
       "      <td>Viral Pneumonia-2</td>\n",
       "      <td>PNG</td>\n",
       "      <td>256*256</td>\n",
       "      <td>https://www.kaggle.com/paultimothymooney/chest...</td>\n",
       "    </tr>\n",
       "    <tr>\n",
       "      <th>2</th>\n",
       "      <td>Viral Pneumonia-3</td>\n",
       "      <td>PNG</td>\n",
       "      <td>256*256</td>\n",
       "      <td>https://www.kaggle.com/paultimothymooney/chest...</td>\n",
       "    </tr>\n",
       "    <tr>\n",
       "      <th>3</th>\n",
       "      <td>Viral Pneumonia-4</td>\n",
       "      <td>PNG</td>\n",
       "      <td>256*256</td>\n",
       "      <td>https://www.kaggle.com/paultimothymooney/chest...</td>\n",
       "    </tr>\n",
       "    <tr>\n",
       "      <th>4</th>\n",
       "      <td>Viral Pneumonia-5</td>\n",
       "      <td>PNG</td>\n",
       "      <td>256*256</td>\n",
       "      <td>https://www.kaggle.com/paultimothymooney/chest...</td>\n",
       "    </tr>\n",
       "  </tbody>\n",
       "</table>\n",
       "</div>"
      ],
      "text/plain": [
       "           FILE NAME FORMAT     SIZE  \\\n",
       "0  Viral Pneumonia-1    PNG  256*256   \n",
       "1  Viral Pneumonia-2    PNG  256*256   \n",
       "2  Viral Pneumonia-3    PNG  256*256   \n",
       "3  Viral Pneumonia-4    PNG  256*256   \n",
       "4  Viral Pneumonia-5    PNG  256*256   \n",
       "\n",
       "                                                 URL  \n",
       "0  https://www.kaggle.com/paultimothymooney/chest...  \n",
       "1  https://www.kaggle.com/paultimothymooney/chest...  \n",
       "2  https://www.kaggle.com/paultimothymooney/chest...  \n",
       "3  https://www.kaggle.com/paultimothymooney/chest...  \n",
       "4  https://www.kaggle.com/paultimothymooney/chest...  "
      ]
     },
     "execution_count": 10,
     "metadata": {},
     "output_type": "execute_result"
    }
   ],
   "source": [
    "viral_data = pd.read_excel('../dataset/COVID-19_Radiography_Dataset/Viral Pneumonia.metadata.xlsx',sheet_name = 0)\n",
    "viral_data.head()"
   ]
  },
  {
   "cell_type": "code",
   "execution_count": 11,
   "id": "032d4f77",
   "metadata": {},
   "outputs": [
    {
     "data": {
      "image/png": "[encoded data removed]",
      "text/plain": [
       "<Figure size 432x288 with 1 Axes>"
      ]
     },
     "metadata": {},
     "output_type": "display_data"
    }
   ],
   "source": [
    "pathology_list = ['COVID', 'Lung_Opacity', 'Normal', 'Viral Pneumonia']\n",
    "pathology_num = [len(covid_data), len(opacity_data), len(normal_data), len(viral_data)]\n",
    "\n",
    "df = pd.DataFrame({\"Class\": pathology_list, \"Number\": pathology_num})\n",
    "\n",
    "# plt.xticks(rotation=90)\n",
    "f = sns.barplot(x=\"Class\", y=\"Number\", data=df)\n",
    "\n",
    "for index,row in df.iterrows():\n",
    "    f.text(row.name,row.Number,row.Number,ha=\"center\")"
   ]
  },
  {
   "cell_type": "markdown",
   "id": "4d0a635a",
   "metadata": {},
   "source": [
    "**show 4 images randomly from each COVID, Viral Pneumonia, and Normal**"
   ]
  },
  {
   "cell_type": "code",
   "execution_count": 12,
   "id": "25db0f68",
   "metadata": {},
   "outputs": [],
   "source": [
    "plt.style.use(\"grayscale\")"
   ]
  },
  {
   "cell_type": "code",
   "execution_count": 13,
   "id": "e795fdbe",
   "metadata": {},
   "outputs": [],
   "source": [
    "root_date_path = '../dataset/COVID-19_Radiography_Dataset'\n",
    "class_names = ['COVID', 'Normal', 'Viral Pneumonia']\n",
    "\n",
    "images_path_dir = {\n",
    "    'COVID':f'{root_date_path}/COVID/images',\n",
    "    'Normal':f'{root_date_path}/Normal/images',\n",
    "    'Viral Pneumonia':f'{root_date_path}/Viral Pneumonia/images'\n",
    "}\n",
    "\n",
    "masks_path_dir = {\n",
    "    'COVID':f'{root_date_path}/COVID/masks',\n",
    "    'Normal':f'{root_date_path}/Normal/masks',\n",
    "    'Viral Pneumonia':f'{root_date_path}/Viral Pneumonia/masks'\n",
    "}"
   ]
  },
  {
   "cell_type": "code",
   "execution_count": 14,
   "id": "c8707802",
   "metadata": {},
   "outputs": [],
   "source": [
    "def show_images_random(imgs_path):\n",
    "    for i, v in enumerate(imgs_path):\n",
    "        if i == 0:\n",
    "            img = Image.open(v)  # open image \n",
    "            img_array = np.array(img)  # transfer to np array object\n",
    "        if i > 0:\n",
    "            img_array2 = np.array(Image.open(v))\n",
    "            img_array = np.concatenate((img_array, img_array2), axis=1)  # concatenate by row\n",
    "            # img_array = np.concatenate((img_array, img_array2), axis=0)  # concatenate by col\n",
    "            img = Image.fromarray(img_array)\n",
    "    plt.axis('off')\n",
    "    plt.imshow(img)\n",
    "    "
   ]
  },
  {
   "cell_type": "code",
   "execution_count": 15,
   "id": "66f5a767",
   "metadata": {},
   "outputs": [],
   "source": [
    "covid_images_list = [os.path.join(images_path_dir['COVID'], 'COVID-1.png'),\n",
    "                     os.path.join(images_path_dir['COVID'], 'COVID-10.png'),\n",
    "                     os.path.join(images_path_dir['COVID'], 'COVID-100.png'),\n",
    "                     os.path.join(images_path_dir['COVID'], 'COVID-1000.png')]\n",
    "viral_images_list = [os.path.join(images_path_dir['Viral Pneumonia'], 'Viral Pneumonia-1.png'),\n",
    "                     os.path.join(images_path_dir['Viral Pneumonia'], 'Viral Pneumonia-10.png'),\n",
    "                     os.path.join(images_path_dir['Viral Pneumonia'], 'Viral Pneumonia-100.png'),\n",
    "                     os.path.join(images_path_dir['Viral Pneumonia'], 'Viral Pneumonia-1000.png')]\n",
    "Normal_images_list = [os.path.join(images_path_dir['Normal'], 'Normal-5.png'),\n",
    "                     os.path.join(images_path_dir['Normal'], 'Normal-58.png'),\n",
    "                     os.path.join(images_path_dir['Normal'], 'Normal-508.png'),\n",
    "                     os.path.join(images_path_dir['Normal'], 'Normal-2200.png')]"
   ]
  },
  {
   "cell_type": "code",
   "execution_count": 16,
   "id": "37c292b4",
   "metadata": {},
   "outputs": [
    {
     "data": {
      "image/png": "[encoded data removed]",
      "text/plain": [
       "<Figure size 432x288 with 1 Axes>"
      ]
     },
     "metadata": {},
     "output_type": "display_data"
    }
   ],
   "source": [
    "show_images_random(covid_images_list)\n",
    "plt.savefig('four_images_COVID.png', dpi=120, bbox_inches='tight')"
   ]
  },
  {
   "cell_type": "code",
   "execution_count": 17,
   "id": "3fec7b3c",
   "metadata": {},
   "outputs": [
    {
     "data": {
      "image/png": "[encoded data removed]",
      "text/plain": [
       "<Figure size 432x288 with 1 Axes>"
      ]
     },
     "metadata": {},
     "output_type": "display_data"
    }
   ],
   "source": [
    "show_images_random(viral_images_list)\n",
    "plt.savefig('four_images_viral.png',dpi=120, bbox_inches='tight')"
   ]
  },
  {
   "cell_type": "code",
   "execution_count": 18,
   "id": "374f6ea8",
   "metadata": {},
   "outputs": [
    {
     "data": {
      "image/png": "[encoded data removed]",
      "text/plain": [
       "<Figure size 432x288 with 1 Axes>"
      ]
     },
     "metadata": {},
     "output_type": "display_data"
    }
   ],
   "source": [
    "show_images_random(Normal_images_list)\n",
    "plt.savefig('four_images_normal.png',dpi=120, bbox_inches='tight')"
   ]
  },
  {
   "cell_type": "markdown",
   "id": "d1a224a9",
   "metadata": {},
   "source": [
    "# Split Dataset and create dataloaders"
   ]
  },
  {
   "cell_type": "markdown",
   "id": "6f4b92ae",
   "metadata": {},
   "source": [
    "**Make folders for Train, valid, test dataset and lung segmentation dataset**"
   ]
  },
  {
   "cell_type": "code",
   "execution_count": 19,
   "id": "9f314cf7",
   "metadata": {},
   "outputs": [],
   "source": [
    "def mkdir_lung_segm(dir_path, class_names):\n",
    "    \"\"\"\n",
    "    make a dictionary for lung segmentation images\n",
    "    :param dir_path: path of aim dictionary \n",
    "    :param class_names: class names of the dataset\n",
    "    \"\"\"\n",
    "    folder = os.path.exists(dir_path)\n",
    "    set_list = ['train','valid','test']\n",
    "    if not folder:\n",
    "        os.mkdir(dir_path)\n",
    "        for class_name in class_names:\n",
    "            os.mkdir(os.path.join(dir_path,class_name))\n",
    "            print(f'{os.path.join(dir_path,class_name)} creat successfully!')\n",
    "    else:\n",
    "        print(f'WARN: {dir_path} is already exists!') "
   ]
  },
  {
   "cell_type": "code",
   "execution_count": 20,
   "id": "2856ead5",
   "metadata": {},
   "outputs": [
    {
     "name": "stdout",
     "output_type": "stream",
     "text": [
      "WARN: ../dataset/lung_segmentation_dataset is already exists!\n"
     ]
    }
   ],
   "source": [
    "mkdir_lung_segm(\"../dataset/lung_segmentation_dataset\", class_names)"
   ]
  },
  {
   "cell_type": "code",
   "execution_count": 21,
   "id": "d54c920e",
   "metadata": {},
   "outputs": [],
   "source": [
    "def mkdir_train_val_test(dir_path, class_names):\n",
    "    \"\"\"\n",
    "    make a Dictionary for train, validation, test dataset\n",
    "    :param dir_path: path of aim dictionary \n",
    "    :param class_names: class names of the dataset  \n",
    "    \"\"\"\n",
    "    folder = os.path.exists(dir_path)\n",
    "    set_list = ['train','valid','test']\n",
    "    if not folder:\n",
    "        os.mkdir(dir_path)\n",
    "        for set_name in set_list:\n",
    "            os.mkdir(os.path.join(dir_path, set_name))\n",
    "            for class_name in class_names:\n",
    "                os.mkdir(os.path.join(dir_path,set_name,class_name))\n",
    "                print(f'{os.path.join(dir_path,set_name,class_name)} creat successfully!')\n",
    "    else:\n",
    "        print(f'WARN: {dir_path} is already exists!') "
   ]
  },
  {
   "cell_type": "code",
   "execution_count": 22,
   "id": "d7fc4adb",
   "metadata": {},
   "outputs": [
    {
     "name": "stdout",
     "output_type": "stream",
     "text": [
      "WARN: ../dataset/TrainValTest is already exists!\n"
     ]
    }
   ],
   "source": [
    "mkdir_train_val_test(\"../dataset/TrainValTest\", class_names)"
   ]
  },
  {
   "cell_type": "markdown",
   "id": "ddb8573e",
   "metadata": {},
   "source": [
    "**Get lung segmentation images by ground-truth masks**"
   ]
  },
  {
   "cell_type": "code",
   "execution_count": 23,
   "id": "c67a62a2",
   "metadata": {},
   "outputs": [],
   "source": [
    "class LungSegment():\n",
    "    def __init__(self, image_path, mask_path, out_path):\n",
    "        \"\"\"\n",
    "        Get lung segmentations dataset by mask matting\n",
    "        :param image_path: path of original X-Ray image\n",
    "        :param mask_path: path of lung mask\n",
    "        :param out_path: path of lung segmentations\n",
    "        \"\"\"\n",
    "        self.image = cv2.imread(image_path)\n",
    "        self.mask = cv2.imread(mask_path)\n",
    "        self.bg = cv2.imread(mask_path)\n",
    "        self.image = cv2.resize(self.image, \n",
    "                               (self.mask.shape[1], self.mask.shape[0]), \n",
    "                               interpolation=cv2.INTER_AREA)\n",
    "        self.out_path = out_path\n",
    "    \n",
    "    def matting(self):\n",
    "        bg_mask = (np.ones(self.image.shape, dtype='uint8') * 255) - self.mask \n",
    "        mask = self.mask.astype(\"float\") \n",
    "        mask = mask / 255 \n",
    "        image = self.image * mask\n",
    "        bg = self.bg * (bg_mask/255) \n",
    "        image = image.astype(\"uint8\")\n",
    "        bg = bg.astype(\"uint8\")\n",
    "        self.stacked = cv2.addWeighted(image, 1, bg, 1, 0)\n",
    "        \n",
    "    def save(self):\n",
    "        cv2.imwrite(self.out_path, self.stacked)"
   ]
  },
  {
   "cell_type": "code",
   "execution_count": 24,
   "id": "76d9117a",
   "metadata": {},
   "outputs": [],
   "source": [
    "root_cov_ori = \"../dataset/COVID-19_Radiography_Dataset\"\n",
    "dir_path = \"../dataset/lung_segmentation_dataset\"\n",
    "input_dir = {\n",
    "    'COVID':f'{root_cov_ori}/COVID',\n",
    "    'Normal':f'{root_cov_ori}/Normal',\n",
    "    'Viral Pneumonia':f'{root_cov_ori}/Viral Pneumonia'\n",
    "}\n",
    "out_dir = {\n",
    "    'COVID':f'{dir_path}/COVID',\n",
    "    'Normal':f'{dir_path}/Normal',\n",
    "    'Viral Pneumonia':f'{dir_path}/Viral Pneumonia'\n",
    "}\n"
   ]
  },
  {
   "cell_type": "code",
   "execution_count": 25,
   "id": "34943585",
   "metadata": {},
   "outputs": [],
   "source": [
    "def get_lung_segmentation(input_dir, out_dir):\n",
    "    \n",
    "    \"\"\"\n",
    "    Get lung segmentations image by class LungSegment\n",
    "    :param input_dir: path of the dictionary to input X-ray image\n",
    "    :param out_path: path of dictionary to output segmenting image\n",
    "    \"\"\"\n",
    "    empty_or_not = [x for x in os.listdir(os.path.join(out_dir['COVID'])) if x.lower().endswith('png')]\n",
    "    if empty_or_not == []:\n",
    "        print('The seg_data is empty, start to do lung segmentation!')\n",
    "        for class_name in class_names:\n",
    "            mask_path = [x for x in os.listdir(os.path.join(input_dir[class_name],'masks')) if x.lower().endswith('png')]\n",
    "            for i in range(len(mask_path)):\n",
    "                match_mask_path = glob.glob(os.path.join(input_dir[class_name], 'images', mask_path[i]))\n",
    "                if not match_mask_path == []:\n",
    "                    out_path = os.path.join(out_dir[class_name], mask_path[i])\n",
    "                    mm = LungSegment(os.path.join(input_dir[class_name], 'images', mask_path[i]),\n",
    "                                      os.path.join(input_dir[class_name], 'masks', mask_path[i]),\n",
    "                                      out_path)\n",
    "                    mm.matting()\n",
    "                    mm.save()\n",
    "        print('Creat lung segmentation data down!')\n",
    "    else:\n",
    "        print('Lung segmentation data has been cearted!')"
   ]
  },
  {
   "cell_type": "code",
   "execution_count": 26,
   "id": "006ba5af",
   "metadata": {},
   "outputs": [
    {
     "name": "stdout",
     "output_type": "stream",
     "text": [
      "False\n"
     ]
    }
   ],
   "source": [
    "img_path = [x for x in os.listdir(os.path.join(out_dir['COVID'])) if x.lower().endswith('png')]\n",
    "print(img_path == [])"
   ]
  },
  {
   "cell_type": "code",
   "execution_count": 27,
   "id": "bf3ec469",
   "metadata": {
    "scrolled": false
   },
   "outputs": [
    {
     "name": "stdout",
     "output_type": "stream",
     "text": [
      "Lung segmentation data has been cearted!\n"
     ]
    }
   ],
   "source": [
    "get_lung_segmentation(input_dir, out_dir)"
   ]
  },
  {
   "cell_type": "markdown",
   "id": "d01c289e",
   "metadata": {},
   "source": [
    "**Get Examples for lung segmentation dataset for each pathologys**"
   ]
  },
  {
   "cell_type": "code",
   "execution_count": 28,
   "id": "8c14e697",
   "metadata": {},
   "outputs": [],
   "source": [
    "root_seg_date_path = '../dataset/lung_segmentation_dataset'\n",
    "\n",
    "images_seg_path_dir = {\n",
    "    'COVID':f'{root_seg_date_path}/COVID',\n",
    "    'Normal':f'{root_seg_date_path}/Normal',\n",
    "    'Viral Pneumonia':f'{root_seg_date_path}/Viral Pneumonia'\n",
    "}"
   ]
  },
  {
   "cell_type": "code",
   "execution_count": 29,
   "id": "a4e713c6",
   "metadata": {},
   "outputs": [],
   "source": [
    "covid_seg_images_list = [os.path.join(images_seg_path_dir['COVID'], 'COVID-1.png'),\n",
    "                     os.path.join(images_seg_path_dir['COVID'], 'COVID-10.png'),\n",
    "                     os.path.join(images_seg_path_dir['COVID'], 'COVID-100.png'),\n",
    "                     os.path.join(images_seg_path_dir['COVID'], 'COVID-1000.png')]\n",
    "viral_seg_images_list = [os.path.join(images_seg_path_dir['Viral Pneumonia'], 'Viral Pneumonia-1.png'),\n",
    "                     os.path.join(images_seg_path_dir['Viral Pneumonia'], 'Viral Pneumonia-10.png'),\n",
    "                     os.path.join(images_seg_path_dir['Viral Pneumonia'], 'Viral Pneumonia-100.png'),\n",
    "                     os.path.join(images_seg_path_dir['Viral Pneumonia'], 'Viral Pneumonia-1000.png')]\n",
    "Normal_seg_images_list = [os.path.join(images_seg_path_dir['Normal'], 'Normal-5.png'),\n",
    "                     os.path.join(images_seg_path_dir['Normal'], 'Normal-52.png'),\n",
    "                     os.path.join(images_seg_path_dir['Normal'], 'Normal-527.png'),\n",
    "                     os.path.join(images_seg_path_dir['Normal'], 'Normal-2192.png')]"
   ]
  },
  {
   "cell_type": "code",
   "execution_count": 30,
   "id": "8815f676",
   "metadata": {},
   "outputs": [
    {
     "data": {
      "image/png": "[encoded data removed]",
      "text/plain": [
       "<Figure size 432x288 with 1 Axes>"
      ]
     },
     "metadata": {},
     "output_type": "display_data"
    }
   ],
   "source": [
    "show_images_random(covid_seg_images_list)\n",
    "plt.savefig('four_lung_seg_images_COVID.png', dpi=120, bbox_inches='tight')"
   ]
  },
  {
   "cell_type": "code",
   "execution_count": 32,
   "id": "cea284f4",
   "metadata": {},
   "outputs": [
    {
     "data": {
      "image/png": "[encoded data removed]",
      "text/plain": [
       "<Figure size 432x288 with 1 Axes>"
      ]
     },
     "metadata": {},
     "output_type": "display_data"
    }
   ],
   "source": [
    "show_images_random(viral_seg_images_list)\n",
    "plt.savefig('four_lung_seg_images_viral.png', dpi=120, bbox_inches='tight')"
   ]
  },
  {
   "cell_type": "code",
   "execution_count": 33,
   "id": "bd184ae8",
   "metadata": {},
   "outputs": [
    {
     "data": {
      "image/png": "[encoded data removed]",
      "text/plain": [
       "<Figure size 432x288 with 1 Axes>"
      ]
     },
     "metadata": {},
     "output_type": "display_data"
    }
   ],
   "source": [
    "show_images_random(Normal_seg_images_list)\n",
    "plt.savefig('four_lung_seg_images_normal.png', dpi=120, bbox_inches='tight')"
   ]
  },
  {
   "cell_type": "markdown",
   "id": "e42b2402",
   "metadata": {},
   "source": [
    "**divide lung segmentation dataset into train, valid, test dataset**"
   ]
  },
  {
   "cell_type": "code",
   "execution_count": 34,
   "id": "25f73b54",
   "metadata": {},
   "outputs": [],
   "source": [
    "def divideTrainValiTest(source_path, target_path, class_names):\n",
    "    \"\"\"\n",
    "    divid Original dataset into Train,Valid and Test dataset\n",
    "    :param source_path: path of source dir\n",
    "    :param target_path: path of target dir\n",
    "    :param class_names: names of each class for original dataset\n",
    "    \"\"\"\n",
    "    if os.listdir(os.path.join(target_path, 'train', 'COVID')):\n",
    "        print(\"The TrainValiTest has been created already!\")\n",
    "        return True\n",
    "    \n",
    "    # Operate on the data in each category\n",
    "    for class_name in class_names:\n",
    "        # Get the name of this type of picture\n",
    "        image_names = [x for x in os.listdir(os.path.join(source_path,class_name)) if x.lower().endswith('png')]\n",
    "        # sample subset of image labeled with \"Normal\"\n",
    "        random.shuffle(image_names)\n",
    "        if (class_name == 'Normal'):\n",
    "            print(int(len(covid_data)+len(viral_data)-1))\n",
    "            image_names = image_names[0:int(len(covid_data)+len(viral_data)-1)]\n",
    "            \n",
    "        # Divide the train, valid, test dataset wby 8:1:1\n",
    "        train_list = image_names[0:int(0.8 * len(image_names))]\n",
    "        valid_list = image_names[int(0.8 * len(image_names)):int(0.9 * len(image_names))]\n",
    "        test_list = image_names[int(0.9 * len(image_names)):]\n",
    "        \n",
    "        # For each image, move it to the corresponding folder\n",
    "        for train_pic in train_list:\n",
    "            shutil.copyfile(source_path + '/' + class_name + '/'  + train_pic, \n",
    "                            target_path + '/train/' + class_name + '/' + train_pic)\n",
    "        for validation_pic in valid_list:\n",
    "            shutil.copyfile(source_path + '/' + class_name + '/' + validation_pic,\n",
    "                            target_path + '/valid/' + class_name + '/' + validation_pic)\n",
    "        for test_pic in test_list:\n",
    "            shutil.copyfile(source_path + '/' + class_name + '/' + test_pic, \n",
    "                            target_path + '/test/' + class_name + '/' + test_pic)\n",
    "    print(\"The TrainValiTest creates Successfully! \")"
   ]
  },
  {
   "cell_type": "code",
   "execution_count": 35,
   "id": "f76e2a5b",
   "metadata": {},
   "outputs": [
    {
     "name": "stdout",
     "output_type": "stream",
     "text": [
      "The TrainValiTest has been created already!\n"
     ]
    },
    {
     "data": {
      "text/plain": [
       "True"
      ]
     },
     "execution_count": 35,
     "metadata": {},
     "output_type": "execute_result"
    }
   ],
   "source": [
    "target_path = \"../dataset/TrainValTest\"\n",
    "divideTrainValiTest(\"../dataset/lung_segmentation_dataset\", target_path, class_names)"
   ]
  },
  {
   "cell_type": "code",
   "execution_count": 36,
   "id": "8c4f4d83",
   "metadata": {},
   "outputs": [],
   "source": [
    "def make_weights_for_balanced_classes(images, nclasses):\n",
    "    \"\"\"\n",
    "    create a weighted random sampler\n",
    "    :param images: images in ImageFolder\n",
    "    :param nclasses: class number in ImageFolder\n",
    "    \"\"\"\n",
    "    n_images = len(images)\n",
    "    count_per_class = [0] * nclasses\n",
    "    for _, image_class in images:\n",
    "        count_per_class[image_class] += 1\n",
    "    weight_per_class = [0.] * nclasses\n",
    "    for i in range(nclasses):\n",
    "        weight_per_class[i] = float(n_images) / float(count_per_class[i])\n",
    "    weights = [0] * n_images\n",
    "    for idx, (image, image_class) in enumerate(images):\n",
    "        weights[idx] = weight_per_class[image_class]\n",
    "    return weights"
   ]
  },
  {
   "cell_type": "code",
   "execution_count": 37,
   "id": "8187467b",
   "metadata": {},
   "outputs": [],
   "source": [
    "data_transforms = {\n",
    "    'train': transforms.Compose([\n",
    "    transforms.Resize(size=(224, 224)),\n",
    "    transforms.RandomRotation(15, expand=False),\n",
    "    transforms.RandomHorizontalFlip(p=0.1),\n",
    "    transforms.RandomVerticalFlip(p=0.1),\n",
    "    transforms.ToTensor(),\n",
    "    transforms.Normalize(mean=[0.485, 0.456, 0.406], std=[0.229, 0.224, 0.225])\n",
    "    ]),\n",
    "    'valid': transforms.Compose([\n",
    "    transforms.Resize(size=(224, 224)),\n",
    "    transforms.ToTensor(),\n",
    "    transforms.Normalize([0.485, 0.456, 0.406], [0.229, 0.224, 0.225])\n",
    "    ]),\n",
    "}"
   ]
  },
  {
   "cell_type": "markdown",
   "id": "528c6404",
   "metadata": {},
   "source": [
    "**dataloaders**"
   ]
  },
  {
   "cell_type": "code",
   "execution_count": 38,
   "id": "1ff2c2e1",
   "metadata": {},
   "outputs": [],
   "source": [
    "data_dir = \"../dataset/TrainValTest\"\n",
    "dataset_train = datasets.ImageFolder(os.path.join(data_dir, 'train'), data_transforms['train'])\n",
    "dataset_valid = datasets.ImageFolder(os.path.join(data_dir, 'valid'), data_transforms['valid'])\n",
    "dataset_test = datasets.ImageFolder(os.path.join(data_dir, 'test'))\n",
    "# For unbalanced dataset we create a weighted sampler                       \n",
    "weights = make_weights_for_balanced_classes(dataset_train.imgs, len(dataset_train.classes))                                                                \n",
    "weights = torch.DoubleTensor(weights)                                       \n",
    "sampler = torch.utils.data.sampler.WeightedRandomSampler(weights, len(weights))                     \n",
    "                                                                                \n",
    "dataloaders = { 'train':torch.utils.data.DataLoader(dataset_train, batch_size=32, shuffle = False,                              \n",
    "                                        sampler = sampler, num_workers=2, pin_memory=False),\n",
    "                'valid':torch.utils.data.DataLoader(dataset_valid, batch_size=32, shuffle = True, \n",
    "                                        num_workers=2, pin_memory=False)}\n"
   ]
  },
  {
   "cell_type": "code",
   "execution_count": 39,
   "id": "17c0ef79",
   "metadata": {},
   "outputs": [],
   "source": [
    "def get_each_class_distribution(data_dir, class_names):\n",
    "    \"\"\"\n",
    "    get distribution for each class in train, valid, test dataset\n",
    "    :param data_dir: the dictioanary of train, valid, test dataset\n",
    "    :param class_names: the class name of dataset\n",
    "    \"\"\"\n",
    "    train_val_test = ['train', 'valid','test']\n",
    "    distribution = {\n",
    "        'train':{\n",
    "            'COVID':0,\n",
    "            'Viral Pneumonia':0,\n",
    "            'Normal':0\n",
    "        },\n",
    "        'valid':{\n",
    "            'COVID':0,\n",
    "            'Viral Pneumonia':0,\n",
    "            'Normal':0\n",
    "            \n",
    "        },\n",
    "        'test':{\n",
    "            'COVID':0,\n",
    "            'Viral Pneumonia':0,\n",
    "            'Normal':0\n",
    "            \n",
    "        }\n",
    "    }\n",
    "    for name in train_val_test:\n",
    "        for class_name in class_names:\n",
    "            imgs_path = [x for x in os.listdir(os.path.join(data_dir,name,class_name)) if x.lower().endswith('png')]\n",
    "            distribution[name][class_name] = len(imgs_path)\n",
    "    return distribution"
   ]
  },
  {
   "cell_type": "code",
   "execution_count": 40,
   "id": "697ede40",
   "metadata": {},
   "outputs": [
    {
     "name": "stdout",
     "output_type": "stream",
     "text": [
      "{'train': {'COVID': 2892, 'Viral Pneumonia': 1076, 'Normal': 3968}, 'valid': {'COVID': 362, 'Viral Pneumonia': 134, 'Normal': 496}, 'test': {'COVID': 362, 'Viral Pneumonia': 135, 'Normal': 496}}\n"
     ]
    }
   ],
   "source": [
    "distribution = get_each_class_distribution(data_dir, class_names)\n",
    "print(distribution)"
   ]
  },
  {
   "cell_type": "code",
   "execution_count": 41,
   "id": "ad00c265",
   "metadata": {},
   "outputs": [
    {
     "name": "stdout",
     "output_type": "stream",
     "text": [
      "10192\n",
      "10192\n"
     ]
    }
   ],
   "source": [
    "imgsss_path = [x for x in os.listdir(os.path.join('../dataset/COVID-19_Radiography_Dataset/Normal/masks')) \n",
    "               if x.lower().endswith('png')]\n",
    "imgss_path = [x for x in os.listdir(os.path.join('../dataset/lung_segmentation_dataset/Normal')) \n",
    "               if x.lower().endswith('png')]\n",
    "print(len(imgsss_path))\n",
    "print(len(imgss_path))"
   ]
  },
  {
   "cell_type": "code",
   "execution_count": 42,
   "id": "30c7b8c3",
   "metadata": {},
   "outputs": [
    {
     "name": "stdout",
     "output_type": "stream",
     "text": [
      "{'train': 7936, 'valid': 992, 'test': 993}\n"
     ]
    }
   ],
   "source": [
    "dataset_sizes = {\n",
    "    'train':len(dataset_train),\n",
    "    'valid':len(dataset_valid),\n",
    "    'test':len(dataset_test)\n",
    "}\n",
    "print(dataset_sizes)"
   ]
  },
  {
   "cell_type": "markdown",
   "id": "16bb1930",
   "metadata": {},
   "source": [
    "**Show images after data augmentation**"
   ]
  },
  {
   "cell_type": "code",
   "execution_count": 43,
   "id": "cd95a506",
   "metadata": {},
   "outputs": [],
   "source": [
    "def show_images(images, labels, preds):\n",
    "    plt.figure(figsize=(10, 8))\n",
    "    for i, image in enumerate(images):\n",
    "        plt.subplot(1, 6, i + 1, xticks=[], yticks=[])\n",
    "        image = image.numpy().transpose((1, 2, 0))\n",
    "        mean = np.array([0.485, 0.456, 0.406])\n",
    "        std = np.array([0.229, 0.224, 0.225])\n",
    "        image = image * std + mean\n",
    "        image = np.clip(image, 0., 1.)\n",
    "        plt.imshow(image)\n",
    "        col = 'green'\n",
    "        if preds[i] != labels[i]:\n",
    "            col = 'red'\n",
    "            \n",
    "        plt.xlabel(f'{class_names[int(labels[i].numpy())]}')\n",
    "#         plt.ylabel(f'{class_names[int(preds[i].numpy())]}', color=col)\n",
    "    plt.tight_layout()\n",
    "    plt.show()"
   ]
  },
  {
   "cell_type": "code",
   "execution_count": 44,
   "id": "c4e9a078",
   "metadata": {},
   "outputs": [],
   "source": [
    "images, labels = next(iter(dataloaders['train']))\n",
    "# show_images(images, labels, labels)"
   ]
  },
  {
   "cell_type": "markdown",
   "id": "e6d8c745",
   "metadata": {},
   "source": [
    "# Train Lung segmentation Dataset by ResNet50"
   ]
  },
  {
   "cell_type": "code",
   "execution_count": 45,
   "id": "fc226e1b",
   "metadata": {},
   "outputs": [],
   "source": [
    "device = torch.device(\"cuda:0\" if torch.cuda.is_available() else \"cpu\")\n",
    "resnet50 = models.resnet50(pretrained=True)\n",
    "# for param in model.parameters():\n",
    "#     param.requires_grad = False\n",
    "\n",
    "num_ftrs = resnet50.fc.in_features\n",
    "resnet50.fc = nn.Sequential(\n",
    "                            nn.Dropout(p=0.5),\n",
    "                            nn.Linear(2048, 2048),\n",
    "                            nn.ReLU(inplace=True),\n",
    "                            nn.Dropout(p=0.5),\n",
    "                            nn.Linear(2048, 2048),\n",
    "                            nn.ReLU(inplace=True),\n",
    "                            nn.Linear(in_features=num_ftrs, out_features=3))\n",
    "# resnet50.fc = torch.nn.Linear(in_features=num_ftrs, out_features=3)\n",
    "loss_fn = torch.nn.CrossEntropyLoss()\n",
    "optimizer = torch.optim.Adam(resnet50.parameters(), lr=3e-5)\n",
    "resnet50 = resnet50.cuda() if device else resnet50"
   ]
  },
  {
   "cell_type": "code",
   "execution_count": 46,
   "id": "ec387fda",
   "metadata": {},
   "outputs": [],
   "source": [
    "def show_preds():\n",
    "    resnet50.eval()\n",
    "    images, labels = next(iter(dataloaders['valid']))\n",
    "    if device:\n",
    "        images, labels = images.cuda(), labels.cuda()\n",
    "#     images, labels = images.to(device), labels.to(device)\n",
    "    outputs = resnet50(images)\n",
    "    _, preds = torch.max(outputs, 1)\n",
    "    show_images(images.cpu(), labels.cpu(), preds.cpu())"
   ]
  },
  {
   "cell_type": "code",
   "execution_count": 47,
   "id": "ae69259a",
   "metadata": {},
   "outputs": [],
   "source": [
    "# show_preds()"
   ]
  },
  {
   "cell_type": "code",
   "execution_count": 48,
   "id": "5a772d66",
   "metadata": {},
   "outputs": [],
   "source": [
    "def train_model(model, criterion, optimizer, num_epochs=1):\n",
    "    loss_hist = {\n",
    "        'train':[],\n",
    "        'valid':[]\n",
    "    }\n",
    "    acc_hist = {\n",
    "        'train':[],\n",
    "        'valid':[]\n",
    "    }\n",
    "    since = time.time()\n",
    "\n",
    "    best_model_wts = copy.deepcopy(model.state_dict())\n",
    "    best_acc = 0.0\n",
    "\n",
    "    for epoch in range(num_epochs):\n",
    "        print(f'Epoch {epoch}/{num_epochs - 1}')\n",
    "        print('-' * 10)\n",
    "\n",
    "        # Each epoch has a training and validation phase\n",
    "        for phase in ['train', 'valid']:\n",
    "            if phase == 'train':\n",
    "                model.train()  # Set model to training mode\n",
    "            else:\n",
    "                model.eval()   # Set model to evaluate mode\n",
    "\n",
    "            running_loss = 0.0\n",
    "            running_corrects = 0\n",
    "\n",
    "            # Iterate over data.\n",
    "            for inputs, labels in dataloaders[phase]:\n",
    "                inputs = inputs.to(device)\n",
    "                labels = labels.to(device)\n",
    "\n",
    "                # zero the parameter gradients\n",
    "                optimizer.zero_grad()\n",
    "\n",
    "                # forward\n",
    "                # track history if only in train\n",
    "                with torch.set_grad_enabled(phase == 'train'):\n",
    "                    outputs = model(inputs)\n",
    "                    _, preds = torch.max(outputs, 1)\n",
    "                    loss = criterion(outputs, labels)\n",
    "\n",
    "                    # backward + optimize only if in training phase\n",
    "                    if phase == 'train':\n",
    "                        loss.backward()\n",
    "                        optimizer.step()\n",
    "\n",
    "                # statistics\n",
    "                running_loss += loss.item() * inputs.size(0)\n",
    "                running_corrects += torch.sum(preds == labels.data)\n",
    "#             if phase == 'train':\n",
    "#                 scheduler.step()\n",
    "\n",
    "            epoch_loss = running_loss / dataset_sizes[phase]\n",
    "            epoch_acc = running_corrects.double() / dataset_sizes[phase]\n",
    "        \n",
    "#             print(epoch_loss.type())\n",
    "            # add acc and loss to list for one epoch\n",
    "            loss_hist[phase].append(epoch_loss)\n",
    "            acc_hist[phase].append(epoch_acc)\n",
    "            \n",
    "            print(f'{phase} Loss: {epoch_loss:.4f} Acc: {epoch_acc:.4f}')\n",
    "\n",
    "            # deep copy the model\n",
    "            if phase == 'valid' and epoch_acc > best_acc:\n",
    "                best_acc = epoch_acc\n",
    "                best_model_wts = copy.deepcopy(model.state_dict())\n",
    "\n",
    "        print()\n",
    "\n",
    "    time_elapsed = time.time() - since\n",
    "    print(f'Training complete in {time_elapsed // 60:.0f}m {time_elapsed % 60:.0f}s')\n",
    "    print(f'Best valid Acc: {best_acc:4f}')\n",
    "\n",
    "    # load best model weights\n",
    "    model.load_state_dict(best_model_wts)\n",
    "    return model, loss_hist, acc_hist"
   ]
  },
  {
   "cell_type": "code",
   "execution_count": 49,
   "id": "f9ee8aec",
   "metadata": {},
   "outputs": [
    {
     "name": "stdout",
     "output_type": "stream",
     "text": [
      "Epoch 0/49\n",
      "----------\n",
      "train Loss: 0.4160 Acc: 0.8267\n",
      "valid Loss: 0.2451 Acc: 0.9052\n",
      "\n",
      "Epoch 1/49\n",
      "----------\n",
      "train Loss: 0.2063 Acc: 0.9191\n",
      "valid Loss: 0.1690 Acc: 0.9355\n",
      "\n",
      "Epoch 2/49\n",
      "----------\n",
      "train Loss: 0.1713 Acc: 0.9340\n",
      "valid Loss: 0.1507 Acc: 0.9365\n",
      "\n",
      "Epoch 3/49\n",
      "----------\n",
      "train Loss: 0.1388 Acc: 0.9456\n",
      "valid Loss: 0.1585 Acc: 0.9446\n",
      "\n",
      "Epoch 4/49\n",
      "----------\n",
      "train Loss: 0.1353 Acc: 0.9491\n",
      "valid Loss: 0.1269 Acc: 0.9587\n",
      "\n",
      "Epoch 5/49\n",
      "----------\n",
      "train Loss: 0.1101 Acc: 0.9599\n",
      "valid Loss: 0.2084 Acc: 0.9325\n",
      "\n",
      "Epoch 6/49\n",
      "----------\n",
      "train Loss: 0.0948 Acc: 0.9665\n",
      "valid Loss: 0.1381 Acc: 0.9637\n",
      "\n",
      "Epoch 7/49\n",
      "----------\n",
      "train Loss: 0.0897 Acc: 0.9672\n",
      "valid Loss: 0.1505 Acc: 0.9536\n",
      "\n",
      "Epoch 8/49\n",
      "----------\n",
      "train Loss: 0.0933 Acc: 0.9653\n",
      "valid Loss: 0.1106 Acc: 0.9647\n",
      "\n",
      "Epoch 9/49\n",
      "----------\n",
      "train Loss: 0.0807 Acc: 0.9720\n",
      "valid Loss: 0.1286 Acc: 0.9536\n",
      "\n",
      "Epoch 10/49\n",
      "----------\n",
      "train Loss: 0.0791 Acc: 0.9714\n",
      "valid Loss: 0.1452 Acc: 0.9526\n",
      "\n",
      "Epoch 11/49\n",
      "----------\n",
      "train Loss: 0.0639 Acc: 0.9772\n",
      "valid Loss: 0.0930 Acc: 0.9677\n",
      "\n",
      "Epoch 12/49\n",
      "----------\n",
      "train Loss: 0.0640 Acc: 0.9762\n",
      "valid Loss: 0.1061 Acc: 0.9667\n",
      "\n",
      "Epoch 13/49\n",
      "----------\n",
      "train Loss: 0.0611 Acc: 0.9782\n",
      "valid Loss: 0.1200 Acc: 0.9617\n",
      "\n",
      "Epoch 14/49\n",
      "----------\n",
      "train Loss: 0.0600 Acc: 0.9786\n",
      "valid Loss: 0.1224 Acc: 0.9607\n",
      "\n",
      "Epoch 15/49\n",
      "----------\n",
      "train Loss: 0.0522 Acc: 0.9821\n",
      "valid Loss: 0.1218 Acc: 0.9597\n",
      "\n",
      "Epoch 16/49\n",
      "----------\n",
      "train Loss: 0.0526 Acc: 0.9824\n",
      "valid Loss: 0.0913 Acc: 0.9708\n",
      "\n",
      "Epoch 17/49\n",
      "----------\n",
      "train Loss: 0.0479 Acc: 0.9826\n",
      "valid Loss: 0.1172 Acc: 0.9657\n",
      "\n",
      "Epoch 18/49\n",
      "----------\n",
      "train Loss: 0.0444 Acc: 0.9840\n",
      "valid Loss: 0.1099 Acc: 0.9728\n",
      "\n",
      "Epoch 19/49\n",
      "----------\n",
      "train Loss: 0.0517 Acc: 0.9801\n",
      "valid Loss: 0.0863 Acc: 0.9748\n",
      "\n",
      "Epoch 20/49\n",
      "----------\n",
      "train Loss: 0.0397 Acc: 0.9863\n",
      "valid Loss: 0.1081 Acc: 0.9667\n",
      "\n",
      "Epoch 21/49\n",
      "----------\n",
      "train Loss: 0.0415 Acc: 0.9859\n",
      "valid Loss: 0.2332 Acc: 0.9486\n",
      "\n",
      "Epoch 22/49\n",
      "----------\n",
      "train Loss: 0.0490 Acc: 0.9821\n",
      "valid Loss: 0.1115 Acc: 0.9688\n",
      "\n",
      "Epoch 23/49\n",
      "----------\n",
      "train Loss: 0.0390 Acc: 0.9869\n",
      "valid Loss: 0.0972 Acc: 0.9738\n",
      "\n",
      "Epoch 24/49\n",
      "----------\n",
      "train Loss: 0.0447 Acc: 0.9855\n",
      "valid Loss: 0.1549 Acc: 0.9577\n",
      "\n",
      "Epoch 25/49\n",
      "----------\n",
      "train Loss: 0.0422 Acc: 0.9855\n",
      "valid Loss: 0.1462 Acc: 0.9526\n",
      "\n",
      "Epoch 26/49\n",
      "----------\n",
      "train Loss: 0.0325 Acc: 0.9884\n",
      "valid Loss: 0.1301 Acc: 0.9657\n",
      "\n",
      "Epoch 27/49\n",
      "----------\n",
      "train Loss: 0.0357 Acc: 0.9874\n",
      "valid Loss: 0.1025 Acc: 0.9688\n",
      "\n",
      "Epoch 28/49\n",
      "----------\n",
      "train Loss: 0.0294 Acc: 0.9887\n",
      "valid Loss: 0.1401 Acc: 0.9637\n",
      "\n",
      "Epoch 29/49\n",
      "----------\n",
      "train Loss: 0.0338 Acc: 0.9879\n",
      "valid Loss: 0.0894 Acc: 0.9758\n",
      "\n",
      "Epoch 30/49\n",
      "----------\n",
      "train Loss: 0.0439 Acc: 0.9851\n",
      "valid Loss: 0.1346 Acc: 0.9637\n",
      "\n",
      "Epoch 31/49\n",
      "----------\n",
      "train Loss: 0.0395 Acc: 0.9882\n",
      "valid Loss: 0.1085 Acc: 0.9708\n",
      "\n",
      "Epoch 32/49\n",
      "----------\n",
      "train Loss: 0.0279 Acc: 0.9914\n",
      "valid Loss: 0.0895 Acc: 0.9758\n",
      "\n",
      "Epoch 33/49\n",
      "----------\n",
      "train Loss: 0.0369 Acc: 0.9869\n",
      "valid Loss: 0.0914 Acc: 0.9708\n",
      "\n",
      "Epoch 34/49\n",
      "----------\n",
      "train Loss: 0.0305 Acc: 0.9873\n",
      "valid Loss: 0.1130 Acc: 0.9677\n",
      "\n",
      "Epoch 35/49\n",
      "----------\n",
      "train Loss: 0.0332 Acc: 0.9907\n",
      "valid Loss: 0.1083 Acc: 0.9708\n",
      "\n",
      "Epoch 36/49\n",
      "----------\n",
      "train Loss: 0.0253 Acc: 0.9908\n",
      "valid Loss: 0.0997 Acc: 0.9667\n",
      "\n",
      "Epoch 37/49\n",
      "----------\n",
      "train Loss: 0.0223 Acc: 0.9929\n",
      "valid Loss: 0.0882 Acc: 0.9738\n",
      "\n",
      "Epoch 38/49\n",
      "----------\n",
      "train Loss: 0.0290 Acc: 0.9889\n",
      "valid Loss: 0.0764 Acc: 0.9718\n",
      "\n",
      "Epoch 39/49\n",
      "----------\n",
      "train Loss: 0.0254 Acc: 0.9917\n",
      "valid Loss: 0.0949 Acc: 0.9748\n",
      "\n",
      "Epoch 40/49\n",
      "----------\n",
      "train Loss: 0.0275 Acc: 0.9903\n",
      "valid Loss: 0.1040 Acc: 0.9718\n",
      "\n",
      "Epoch 41/49\n",
      "----------\n",
      "train Loss: 0.0232 Acc: 0.9926\n",
      "valid Loss: 0.0857 Acc: 0.9758\n",
      "\n",
      "Epoch 42/49\n",
      "----------\n",
      "train Loss: 0.0342 Acc: 0.9874\n",
      "valid Loss: 0.1235 Acc: 0.9708\n",
      "\n",
      "Epoch 43/49\n",
      "----------\n",
      "train Loss: 0.0255 Acc: 0.9919\n",
      "valid Loss: 0.1000 Acc: 0.9748\n",
      "\n",
      "Epoch 44/49\n",
      "----------\n",
      "train Loss: 0.0241 Acc: 0.9921\n",
      "valid Loss: 0.0994 Acc: 0.9718\n",
      "\n",
      "Epoch 45/49\n",
      "----------\n",
      "train Loss: 0.0252 Acc: 0.9916\n",
      "valid Loss: 0.1133 Acc: 0.9758\n",
      "\n",
      "Epoch 46/49\n",
      "----------\n",
      "train Loss: 0.0208 Acc: 0.9928\n",
      "valid Loss: 0.1556 Acc: 0.9647\n",
      "\n",
      "Epoch 47/49\n",
      "----------\n",
      "train Loss: 0.0403 Acc: 0.9863\n",
      "valid Loss: 0.0871 Acc: 0.9768\n",
      "\n",
      "Epoch 48/49\n",
      "----------\n",
      "train Loss: 0.0190 Acc: 0.9937\n",
      "valid Loss: 0.0785 Acc: 0.9778\n",
      "\n",
      "Epoch 49/49\n",
      "----------\n",
      "train Loss: 0.0189 Acc: 0.9931\n",
      "valid Loss: 0.1099 Acc: 0.9688\n",
      "\n",
      "Training complete in 44m 28s\n",
      "Best valid Acc: 0.977823\n"
     ]
    }
   ],
   "source": [
    "resnet50_drop_subset_100,loss_hist, acc_hist = train_model(resnet50, loss_fn, optimizer, num_epochs=50)"
   ]
  },
  {
   "cell_type": "markdown",
   "id": "74c61a61",
   "metadata": {},
   "source": [
    "**Save ResNet50 Model**"
   ]
  },
  {
   "cell_type": "code",
   "execution_count": 51,
   "id": "d74f4791",
   "metadata": {},
   "outputs": [],
   "source": [
    "torch.save(resnet50_drop_subset_100.state_dict(), 'resnet50_covid_classifier_seg_epch_50_drop_subset_batch32.pt')"
   ]
  },
  {
   "cell_type": "markdown",
   "id": "a1302839",
   "metadata": {},
   "source": [
    "**Predict results in test dataset**"
   ]
  },
  {
   "cell_type": "code",
   "execution_count": 52,
   "id": "84dece7c",
   "metadata": {},
   "outputs": [
    {
     "data": {
      "text/plain": [
       "ResNet(\n",
       "  (conv1): Conv2d(3, 64, kernel_size=(7, 7), stride=(2, 2), padding=(3, 3), bias=False)\n",
       "  (bn1): BatchNorm2d(64, eps=1e-05, momentum=0.1, affine=True, track_running_stats=True)\n",
       "  (relu): ReLU(inplace=True)\n",
       "  (maxpool): MaxPool2d(kernel_size=3, stride=2, padding=1, dilation=1, ceil_mode=False)\n",
       "  (layer1): Sequential(\n",
       "    (0): Bottleneck(\n",
       "      (conv1): Conv2d(64, 64, kernel_size=(1, 1), stride=(1, 1), bias=False)\n",
       "      (bn1): BatchNorm2d(64, eps=1e-05, momentum=0.1, affine=True, track_running_stats=True)\n",
       "      (conv2): Conv2d(64, 64, kernel_size=(3, 3), stride=(1, 1), padding=(1, 1), bias=False)\n",
       "      (bn2): BatchNorm2d(64, eps=1e-05, momentum=0.1, affine=True, track_running_stats=True)\n",
       "      (conv3): Conv2d(64, 256, kernel_size=(1, 1), stride=(1, 1), bias=False)\n",
       "      (bn3): BatchNorm2d(256, eps=1e-05, momentum=0.1, affine=True, track_running_stats=True)\n",
       "      (relu): ReLU(inplace=True)\n",
       "      (downsample): Sequential(\n",
       "        (0): Conv2d(64, 256, kernel_size=(1, 1), stride=(1, 1), bias=False)\n",
       "        (1): BatchNorm2d(256, eps=1e-05, momentum=0.1, affine=True, track_running_stats=True)\n",
       "      )\n",
       "    )\n",
       "    (1): Bottleneck(\n",
       "      (conv1): Conv2d(256, 64, kernel_size=(1, 1), stride=(1, 1), bias=False)\n",
       "      (bn1): BatchNorm2d(64, eps=1e-05, momentum=0.1, affine=True, track_running_stats=True)\n",
       "      (conv2): Conv2d(64, 64, kernel_size=(3, 3), stride=(1, 1), padding=(1, 1), bias=False)\n",
       "      (bn2): BatchNorm2d(64, eps=1e-05, momentum=0.1, affine=True, track_running_stats=True)\n",
       "      (conv3): Conv2d(64, 256, kernel_size=(1, 1), stride=(1, 1), bias=False)\n",
       "      (bn3): BatchNorm2d(256, eps=1e-05, momentum=0.1, affine=True, track_running_stats=True)\n",
       "      (relu): ReLU(inplace=True)\n",
       "    )\n",
       "    (2): Bottleneck(\n",
       "      (conv1): Conv2d(256, 64, kernel_size=(1, 1), stride=(1, 1), bias=False)\n",
       "      (bn1): BatchNorm2d(64, eps=1e-05, momentum=0.1, affine=True, track_running_stats=True)\n",
       "      (conv2): Conv2d(64, 64, kernel_size=(3, 3), stride=(1, 1), padding=(1, 1), bias=False)\n",
       "      (bn2): BatchNorm2d(64, eps=1e-05, momentum=0.1, affine=True, track_running_stats=True)\n",
       "      (conv3): Conv2d(64, 256, kernel_size=(1, 1), stride=(1, 1), bias=False)\n",
       "      (bn3): BatchNorm2d(256, eps=1e-05, momentum=0.1, affine=True, track_running_stats=True)\n",
       "      (relu): ReLU(inplace=True)\n",
       "    )\n",
       "  )\n",
       "  (layer2): Sequential(\n",
       "    (0): Bottleneck(\n",
       "      (conv1): Conv2d(256, 128, kernel_size=(1, 1), stride=(1, 1), bias=False)\n",
       "      (bn1): BatchNorm2d(128, eps=1e-05, momentum=0.1, affine=True, track_running_stats=True)\n",
       "      (conv2): Conv2d(128, 128, kernel_size=(3, 3), stride=(2, 2), padding=(1, 1), bias=False)\n",
       "      (bn2): BatchNorm2d(128, eps=1e-05, momentum=0.1, affine=True, track_running_stats=True)\n",
       "      (conv3): Conv2d(128, 512, kernel_size=(1, 1), stride=(1, 1), bias=False)\n",
       "      (bn3): BatchNorm2d(512, eps=1e-05, momentum=0.1, affine=True, track_running_stats=True)\n",
       "      (relu): ReLU(inplace=True)\n",
       "      (downsample): Sequential(\n",
       "        (0): Conv2d(256, 512, kernel_size=(1, 1), stride=(2, 2), bias=False)\n",
       "        (1): BatchNorm2d(512, eps=1e-05, momentum=0.1, affine=True, track_running_stats=True)\n",
       "      )\n",
       "    )\n",
       "    (1): Bottleneck(\n",
       "      (conv1): Conv2d(512, 128, kernel_size=(1, 1), stride=(1, 1), bias=False)\n",
       "      (bn1): BatchNorm2d(128, eps=1e-05, momentum=0.1, affine=True, track_running_stats=True)\n",
       "      (conv2): Conv2d(128, 128, kernel_size=(3, 3), stride=(1, 1), padding=(1, 1), bias=False)\n",
       "      (bn2): BatchNorm2d(128, eps=1e-05, momentum=0.1, affine=True, track_running_stats=True)\n",
       "      (conv3): Conv2d(128, 512, kernel_size=(1, 1), stride=(1, 1), bias=False)\n",
       "      (bn3): BatchNorm2d(512, eps=1e-05, momentum=0.1, affine=True, track_running_stats=True)\n",
       "      (relu): ReLU(inplace=True)\n",
       "    )\n",
       "    (2): Bottleneck(\n",
       "      (conv1): Conv2d(512, 128, kernel_size=(1, 1), stride=(1, 1), bias=False)\n",
       "      (bn1): BatchNorm2d(128, eps=1e-05, momentum=0.1, affine=True, track_running_stats=True)\n",
       "      (conv2): Conv2d(128, 128, kernel_size=(3, 3), stride=(1, 1), padding=(1, 1), bias=False)\n",
       "      (bn2): BatchNorm2d(128, eps=1e-05, momentum=0.1, affine=True, track_running_stats=True)\n",
       "      (conv3): Conv2d(128, 512, kernel_size=(1, 1), stride=(1, 1), bias=False)\n",
       "      (bn3): BatchNorm2d(512, eps=1e-05, momentum=0.1, affine=True, track_running_stats=True)\n",
       "      (relu): ReLU(inplace=True)\n",
       "    )\n",
       "    (3): Bottleneck(\n",
       "      (conv1): Conv2d(512, 128, kernel_size=(1, 1), stride=(1, 1), bias=False)\n",
       "      (bn1): BatchNorm2d(128, eps=1e-05, momentum=0.1, affine=True, track_running_stats=True)\n",
       "      (conv2): Conv2d(128, 128, kernel_size=(3, 3), stride=(1, 1), padding=(1, 1), bias=False)\n",
       "      (bn2): BatchNorm2d(128, eps=1e-05, momentum=0.1, affine=True, track_running_stats=True)\n",
       "      (conv3): Conv2d(128, 512, kernel_size=(1, 1), stride=(1, 1), bias=False)\n",
       "      (bn3): BatchNorm2d(512, eps=1e-05, momentum=0.1, affine=True, track_running_stats=True)\n",
       "      (relu): ReLU(inplace=True)\n",
       "    )\n",
       "  )\n",
       "  (layer3): Sequential(\n",
       "    (0): Bottleneck(\n",
       "      (conv1): Conv2d(512, 256, kernel_size=(1, 1), stride=(1, 1), bias=False)\n",
       "      (bn1): BatchNorm2d(256, eps=1e-05, momentum=0.1, affine=True, track_running_stats=True)\n",
       "      (conv2): Conv2d(256, 256, kernel_size=(3, 3), stride=(2, 2), padding=(1, 1), bias=False)\n",
       "      (bn2): BatchNorm2d(256, eps=1e-05, momentum=0.1, affine=True, track_running_stats=True)\n",
       "      (conv3): Conv2d(256, 1024, kernel_size=(1, 1), stride=(1, 1), bias=False)\n",
       "      (bn3): BatchNorm2d(1024, eps=1e-05, momentum=0.1, affine=True, track_running_stats=True)\n",
       "      (relu): ReLU(inplace=True)\n",
       "      (downsample): Sequential(\n",
       "        (0): Conv2d(512, 1024, kernel_size=(1, 1), stride=(2, 2), bias=False)\n",
       "        (1): BatchNorm2d(1024, eps=1e-05, momentum=0.1, affine=True, track_running_stats=True)\n",
       "      )\n",
       "    )\n",
       "    (1): Bottleneck(\n",
       "      (conv1): Conv2d(1024, 256, kernel_size=(1, 1), stride=(1, 1), bias=False)\n",
       "      (bn1): BatchNorm2d(256, eps=1e-05, momentum=0.1, affine=True, track_running_stats=True)\n",
       "      (conv2): Conv2d(256, 256, kernel_size=(3, 3), stride=(1, 1), padding=(1, 1), bias=False)\n",
       "      (bn2): BatchNorm2d(256, eps=1e-05, momentum=0.1, affine=True, track_running_stats=True)\n",
       "      (conv3): Conv2d(256, 1024, kernel_size=(1, 1), stride=(1, 1), bias=False)\n",
       "      (bn3): BatchNorm2d(1024, eps=1e-05, momentum=0.1, affine=True, track_running_stats=True)\n",
       "      (relu): ReLU(inplace=True)\n",
       "    )\n",
       "    (2): Bottleneck(\n",
       "      (conv1): Conv2d(1024, 256, kernel_size=(1, 1), stride=(1, 1), bias=False)\n",
       "      (bn1): BatchNorm2d(256, eps=1e-05, momentum=0.1, affine=True, track_running_stats=True)\n",
       "      (conv2): Conv2d(256, 256, kernel_size=(3, 3), stride=(1, 1), padding=(1, 1), bias=False)\n",
       "      (bn2): BatchNorm2d(256, eps=1e-05, momentum=0.1, affine=True, track_running_stats=True)\n",
       "      (conv3): Conv2d(256, 1024, kernel_size=(1, 1), stride=(1, 1), bias=False)\n",
       "      (bn3): BatchNorm2d(1024, eps=1e-05, momentum=0.1, affine=True, track_running_stats=True)\n",
       "      (relu): ReLU(inplace=True)\n",
       "    )\n",
       "    (3): Bottleneck(\n",
       "      (conv1): Conv2d(1024, 256, kernel_size=(1, 1), stride=(1, 1), bias=False)\n",
       "      (bn1): BatchNorm2d(256, eps=1e-05, momentum=0.1, affine=True, track_running_stats=True)\n",
       "      (conv2): Conv2d(256, 256, kernel_size=(3, 3), stride=(1, 1), padding=(1, 1), bias=False)\n",
       "      (bn2): BatchNorm2d(256, eps=1e-05, momentum=0.1, affine=True, track_running_stats=True)\n",
       "      (conv3): Conv2d(256, 1024, kernel_size=(1, 1), stride=(1, 1), bias=False)\n",
       "      (bn3): BatchNorm2d(1024, eps=1e-05, momentum=0.1, affine=True, track_running_stats=True)\n",
       "      (relu): ReLU(inplace=True)\n",
       "    )\n",
       "    (4): Bottleneck(\n",
       "      (conv1): Conv2d(1024, 256, kernel_size=(1, 1), stride=(1, 1), bias=False)\n",
       "      (bn1): BatchNorm2d(256, eps=1e-05, momentum=0.1, affine=True, track_running_stats=True)\n",
       "      (conv2): Conv2d(256, 256, kernel_size=(3, 3), stride=(1, 1), padding=(1, 1), bias=False)\n",
       "      (bn2): BatchNorm2d(256, eps=1e-05, momentum=0.1, affine=True, track_running_stats=True)\n",
       "      (conv3): Conv2d(256, 1024, kernel_size=(1, 1), stride=(1, 1), bias=False)\n",
       "      (bn3): BatchNorm2d(1024, eps=1e-05, momentum=0.1, affine=True, track_running_stats=True)\n",
       "      (relu): ReLU(inplace=True)\n",
       "    )\n",
       "    (5): Bottleneck(\n",
       "      (conv1): Conv2d(1024, 256, kernel_size=(1, 1), stride=(1, 1), bias=False)\n",
       "      (bn1): BatchNorm2d(256, eps=1e-05, momentum=0.1, affine=True, track_running_stats=True)\n",
       "      (conv2): Conv2d(256, 256, kernel_size=(3, 3), stride=(1, 1), padding=(1, 1), bias=False)\n",
       "      (bn2): BatchNorm2d(256, eps=1e-05, momentum=0.1, affine=True, track_running_stats=True)\n",
       "      (conv3): Conv2d(256, 1024, kernel_size=(1, 1), stride=(1, 1), bias=False)\n",
       "      (bn3): BatchNorm2d(1024, eps=1e-05, momentum=0.1, affine=True, track_running_stats=True)\n",
       "      (relu): ReLU(inplace=True)\n",
       "    )\n",
       "  )\n",
       "  (layer4): Sequential(\n",
       "    (0): Bottleneck(\n",
       "      (conv1): Conv2d(1024, 512, kernel_size=(1, 1), stride=(1, 1), bias=False)\n",
       "      (bn1): BatchNorm2d(512, eps=1e-05, momentum=0.1, affine=True, track_running_stats=True)\n",
       "      (conv2): Conv2d(512, 512, kernel_size=(3, 3), stride=(2, 2), padding=(1, 1), bias=False)\n",
       "      (bn2): BatchNorm2d(512, eps=1e-05, momentum=0.1, affine=True, track_running_stats=True)\n",
       "      (conv3): Conv2d(512, 2048, kernel_size=(1, 1), stride=(1, 1), bias=False)\n",
       "      (bn3): BatchNorm2d(2048, eps=1e-05, momentum=0.1, affine=True, track_running_stats=True)\n",
       "      (relu): ReLU(inplace=True)\n",
       "      (downsample): Sequential(\n",
       "        (0): Conv2d(1024, 2048, kernel_size=(1, 1), stride=(2, 2), bias=False)\n",
       "        (1): BatchNorm2d(2048, eps=1e-05, momentum=0.1, affine=True, track_running_stats=True)\n",
       "      )\n",
       "    )\n",
       "    (1): Bottleneck(\n",
       "      (conv1): Conv2d(2048, 512, kernel_size=(1, 1), stride=(1, 1), bias=False)\n",
       "      (bn1): BatchNorm2d(512, eps=1e-05, momentum=0.1, affine=True, track_running_stats=True)\n",
       "      (conv2): Conv2d(512, 512, kernel_size=(3, 3), stride=(1, 1), padding=(1, 1), bias=False)\n",
       "      (bn2): BatchNorm2d(512, eps=1e-05, momentum=0.1, affine=True, track_running_stats=True)\n",
       "      (conv3): Conv2d(512, 2048, kernel_size=(1, 1), stride=(1, 1), bias=False)\n",
       "      (bn3): BatchNorm2d(2048, eps=1e-05, momentum=0.1, affine=True, track_running_stats=True)\n",
       "      (relu): ReLU(inplace=True)\n",
       "    )\n",
       "    (2): Bottleneck(\n",
       "      (conv1): Conv2d(2048, 512, kernel_size=(1, 1), stride=(1, 1), bias=False)\n",
       "      (bn1): BatchNorm2d(512, eps=1e-05, momentum=0.1, affine=True, track_running_stats=True)\n",
       "      (conv2): Conv2d(512, 512, kernel_size=(3, 3), stride=(1, 1), padding=(1, 1), bias=False)\n",
       "      (bn2): BatchNorm2d(512, eps=1e-05, momentum=0.1, affine=True, track_running_stats=True)\n",
       "      (conv3): Conv2d(512, 2048, kernel_size=(1, 1), stride=(1, 1), bias=False)\n",
       "      (bn3): BatchNorm2d(2048, eps=1e-05, momentum=0.1, affine=True, track_running_stats=True)\n",
       "      (relu): ReLU(inplace=True)\n",
       "    )\n",
       "  )\n",
       "  (avgpool): AdaptiveAvgPool2d(output_size=(1, 1))\n",
       "  (fc): Sequential(\n",
       "    (0): Dropout(p=0.5, inplace=False)\n",
       "    (1): Linear(in_features=2048, out_features=2048, bias=True)\n",
       "    (2): ReLU(inplace=True)\n",
       "    (3): Dropout(p=0.5, inplace=False)\n",
       "    (4): Linear(in_features=2048, out_features=2048, bias=True)\n",
       "    (5): ReLU(inplace=True)\n",
       "    (6): Linear(in_features=2048, out_features=3, bias=True)\n",
       "  )\n",
       ")"
      ]
     },
     "execution_count": 52,
     "metadata": {},
     "output_type": "execute_result"
    }
   ],
   "source": [
    "# Load the model and set in eval\n",
    "resnet50 = torchvision.models.resnet50(pretrained=True)\n",
    "num_ftrs = resnet50.fc.in_features\n",
    "# resnet50.fc = torch.nn.Linear(in_features=num_ftrs, out_features=3)\n",
    "resnet50.fc = nn.Sequential(\n",
    "                            nn.Dropout(p=0.5),\n",
    "                            nn.Linear(2048, 2048),\n",
    "                            nn.ReLU(inplace=True),\n",
    "                            nn.Dropout(p=0.5),\n",
    "                            nn.Linear(2048, 2048),\n",
    "                            nn.ReLU(inplace=True),\n",
    "                            nn.Linear(in_features=num_ftrs, out_features=3))\n",
    "\n",
    "resnet50.load_state_dict(torch.load('resnet50_covid_classifier_seg_epch_50_drop_subset_batch32.pt'))\n",
    "resnet50 = resnet50.cuda() if device else resnet50\n",
    "resnet50.eval()"
   ]
  },
  {
   "cell_type": "code",
   "execution_count": 53,
   "id": "126c9f05",
   "metadata": {},
   "outputs": [],
   "source": [
    "# show_preds()"
   ]
  },
  {
   "cell_type": "code",
   "execution_count": 54,
   "id": "420f55e4",
   "metadata": {},
   "outputs": [],
   "source": [
    "# plt.savefig('predict_after_train_one_batch.png')"
   ]
  },
  {
   "cell_type": "code",
   "execution_count": 55,
   "id": "21e1f961",
   "metadata": {},
   "outputs": [],
   "source": [
    "def predict_image_class(image_path, model):\n",
    "    image = Image.open(image_path).convert('RGB')\n",
    "    image = data_transforms['valid'](image)\n",
    "    image = image.cuda()\n",
    "    # Please note that the transform is defined already in a previous code cell\n",
    "    image = image.unsqueeze(0)\n",
    "    \n",
    "    output = model(image)[0]\n",
    "    probabilities = torch.nn.Softmax(dim=0)(output)\n",
    "    probabilities = probabilities.cpu().detach().numpy()\n",
    "    predicted_class_index = np.argmax(probabilities)\n",
    "    predicted_class_name = class_names[predicted_class_index]\n",
    "    return probabilities, predicted_class_index, predicted_class_name"
   ]
  },
  {
   "cell_type": "code",
   "execution_count": 56,
   "id": "19446402",
   "metadata": {},
   "outputs": [
    {
     "name": "stdout",
     "output_type": "stream",
     "text": [
      "Probabilities: [9.9881053e-01 1.1871838e-03 2.2191784e-06]\n",
      "Predicted class index: 0\n",
      "Predicted class name: COVID\n"
     ]
    }
   ],
   "source": [
    "image_path = '../dataset/TrainValTest/test/COVID/COVID-7.png'\n",
    "probabilities, predicted_class_index, predicted_class_name = predict_image_class(image_path, resnet50)\n",
    "print('Probabilities:', probabilities)\n",
    "print('Predicted class index:', predicted_class_index)\n",
    "print('Predicted class name:', predicted_class_name)"
   ]
  },
  {
   "cell_type": "markdown",
   "id": "2fa01ca1",
   "metadata": {},
   "source": [
    "**Compute confusion matrix**"
   ]
  },
  {
   "cell_type": "code",
   "execution_count": 57,
   "id": "76411208",
   "metadata": {},
   "outputs": [],
   "source": [
    "from sklearn.metrics import confusion_matrix\n",
    "import seaborn as sn\n",
    "import pandas as pd"
   ]
  },
  {
   "cell_type": "code",
   "execution_count": 58,
   "id": "3f7356a7",
   "metadata": {},
   "outputs": [
    {
     "name": "stdout",
     "output_type": "stream",
     "text": [
      "0.9748237663645518\n",
      "[0, 0, 0, 0, 0, 0, 0, 0, 0]\n",
      "True\n"
     ]
    }
   ],
   "source": [
    "pred_vect = []\n",
    "y_pred = []\n",
    "y_true = []\n",
    "test_dir = '../dataset/TrainValTest/test'\n",
    "for c in class_names:\n",
    "    images = [x for x in os.listdir(os.path.join(test_dir, c)) if x.lower().endswith('png')]\n",
    "    for i in range(len(images)):\n",
    "        image_path = os.path.join(test_dir, c, images[i])\n",
    "        _, predicted_class_index, _ = predict_image_class(image_path, resnet50)\n",
    "        y_pred.append(predicted_class_index)\n",
    "        y_true.append(class_names.index(c))\n",
    "        if class_names[predicted_class_index] == c:\n",
    "            pred_vect.append(1)\n",
    "        else:\n",
    "            pred_vect.append(0)\n",
    "zeros = np.zeros(len(pred_vect))\n",
    "accorancy = np.mean(pred_vect != zeros)\n",
    "print(accorancy)\n",
    "print(y_pred[1:10])\n",
    "print(y_true[1:10] == y_pred[1:10])"
   ]
  },
  {
   "cell_type": "markdown",
   "id": "e9dc36e3",
   "metadata": {},
   "source": [
    "**Get Classificatin report for ResNet50 of Lung Segmentation Dataset**"
   ]
  },
  {
   "cell_type": "code",
   "execution_count": 59,
   "id": "e35aac27",
   "metadata": {},
   "outputs": [],
   "source": [
    "from sklearn.metrics import classification_report"
   ]
  },
  {
   "cell_type": "code",
   "execution_count": 60,
   "id": "64a5a288",
   "metadata": {},
   "outputs": [
    {
     "name": "stdout",
     "output_type": "stream",
     "text": [
      "                 precision    recall  f1-score   support\n",
      "\n",
      "          COVID     0.9725    0.9779    0.9752       362\n",
      "         Normal     0.9777    0.9718    0.9747       496\n",
      "Viral Pneumonia     0.9706    0.9778    0.9742       135\n",
      "\n",
      "       accuracy                         0.9748       993\n",
      "      macro avg     0.9736    0.9758    0.9747       993\n",
      "   weighted avg     0.9748    0.9748    0.9748       993\n",
      "\n"
     ]
    }
   ],
   "source": [
    "print(classification_report(y_true, y_pred, target_names=class_names, digits = 4))"
   ]
  },
  {
   "cell_type": "markdown",
   "id": "4570bab3",
   "metadata": {},
   "source": [
    "**Get Confusion Matrix to get Sensitivity and specificity**"
   ]
  },
  {
   "cell_type": "code",
   "execution_count": 61,
   "id": "26039c27",
   "metadata": {},
   "outputs": [],
   "source": [
    "from sklearn.metrics import confusion_matrix"
   ]
  },
  {
   "cell_type": "code",
   "execution_count": 62,
   "id": "c100f15f",
   "metadata": {},
   "outputs": [
    {
     "data": {
      "text/plain": [
       "array([[354,   8,   0],\n",
       "       [ 10, 482,   4],\n",
       "       [  0,   3, 132]])"
      ]
     },
     "execution_count": 62,
     "metadata": {},
     "output_type": "execute_result"
    }
   ],
   "source": [
    "confusion_matrix(y_true, y_pred)"
   ]
  },
  {
   "cell_type": "code",
   "execution_count": 63,
   "id": "a761867c",
   "metadata": {},
   "outputs": [],
   "source": [
    "plt.style.use(\"seaborn\")"
   ]
  },
  {
   "cell_type": "code",
   "execution_count": 64,
   "id": "17cc59ba",
   "metadata": {},
   "outputs": [
    {
     "data": {
      "image/png": "[encoded data removed]",
      "text/plain": [
       "<Figure size 576x396 with 2 Axes>"
      ]
     },
     "metadata": {},
     "output_type": "display_data"
    }
   ],
   "source": [
    "fig = plt.figure()\n",
    "ax = fig.add_subplot(111)\n",
    "conf_mat = confusion_matrix(y_true, y_pred)\n",
    "sn.heatmap(conf_mat,fmt='.20g',annot=True,xticklabels=['covid','normal','viral'],yticklabels=['covid','normal','viral']) #画热力图\n",
    "ax.set_title('confusion matrix') #标题\n",
    "ax.set_xlabel('predict') #x轴\n",
    "ax.set_ylabel('true') #y轴\n",
    "plt.savefig('confusion_matrix.png')\n",
    "plt.show()"
   ]
  },
  {
   "cell_type": "code",
   "execution_count": 65,
   "id": "7624157b",
   "metadata": {},
   "outputs": [
    {
     "data": {
      "image/png": "[encoded data removed]",
      "text/plain": [
       "<Figure size 576x396 with 1 Axes>"
      ]
     },
     "metadata": {},
     "output_type": "display_data"
    }
   ],
   "source": [
    "epoch_list = np.linspace(1, 50, 50)\n",
    "l1 = plt.plot(epoch_list,loss_hist['train'], label='train loss')\n",
    "# l2 = plt.plot(epoch_list,loss_hist['valid'], label='validation loss')\n",
    "plt.xlabel('Epoch number')\n",
    "plt.ylabel('Loss value')\n",
    "plt.legend()\n",
    "plt.savefig('train_loss_curve_every_epoch.png')"
   ]
  },
  {
   "cell_type": "code",
   "execution_count": 66,
   "id": "8feb98ce",
   "metadata": {},
   "outputs": [
    {
     "name": "stdout",
     "output_type": "stream",
     "text": [
      "{'train': [array(0.82673891), array(0.91910282), array(0.93397177), array(0.94556452), array(0.94909274), array(0.95992944), array(0.96648185), array(0.9672379), array(0.96534778), array(0.97202621), array(0.97139617), array(0.97719254), array(0.97618448), array(0.9782006), array(0.97857863), array(0.98210685), array(0.98235887), array(0.98261089), array(0.98399698), array(0.98009073), array(0.98626512), array(0.9858871), array(0.98210685), array(0.98689516), array(0.98550907), array(0.98550907), array(0.98840726), array(0.98739919), array(0.98865927), array(0.98790323), array(0.98513105), array(0.98815524), array(0.99143145), array(0.98689516), array(0.98727319), array(0.9906754), array(0.99080141), array(0.99294355), array(0.98891129), array(0.99168347), array(0.99029738), array(0.99256552), array(0.98739919), array(0.99193548), array(0.99206149), array(0.99155746), array(0.99281754), array(0.98626512), array(0.9936996), array(0.99306956)], 'valid': [array(0.90524194), array(0.93548387), array(0.93649194), array(0.94455645), array(0.95866935), array(0.93245968), array(0.96370968), array(0.95362903), array(0.96471774), array(0.95362903), array(0.95262097), array(0.96774194), array(0.96673387), array(0.96169355), array(0.96068548), array(0.95967742), array(0.97076613), array(0.96572581), array(0.97278226), array(0.97479839), array(0.96673387), array(0.94858871), array(0.96875), array(0.97379032), array(0.95766129), array(0.95262097), array(0.96572581), array(0.96875), array(0.96370968), array(0.97580645), array(0.96370968), array(0.97076613), array(0.97580645), array(0.97076613), array(0.96774194), array(0.97076613), array(0.96673387), array(0.97379032), array(0.97177419), array(0.97479839), array(0.97177419), array(0.97580645), array(0.97076613), array(0.97479839), array(0.97177419), array(0.97580645), array(0.96471774), array(0.97681452), array(0.97782258), array(0.96875)]}\n"
     ]
    }
   ],
   "source": [
    "acc_hist_np = {\n",
    "    'train':[],\n",
    "    'valid':[]\n",
    "}\n",
    "phase = ['train','valid']\n",
    "for pha in phase:\n",
    "    for acc in acc_hist[pha]:\n",
    "        acc_hist_np[pha].append(acc.cpu().numpy())\n",
    "print(acc_hist_np)"
   ]
  },
  {
   "cell_type": "code",
   "execution_count": 68,
   "id": "4dc1680f",
   "metadata": {},
   "outputs": [
    {
     "data": {
      "image/png": "[encoded data removed]",
      "text/plain": [
       "<Figure size 576x396 with 1 Axes>"
      ]
     },
     "metadata": {},
     "output_type": "display_data"
    }
   ],
   "source": [
    "epoch_list = np.linspace(1, 50, 50)\n",
    "l1 = plt.plot(epoch_list,acc_hist_np['train'], label='train accuracy')\n",
    "l2 = plt.plot(epoch_list,acc_hist_np['valid'], label='validation accuracy')\n",
    "plt.xlabel('Epoch number')\n",
    "plt.ylabel('Accuracy')\n",
    "plt.legend()\n",
    "plt.savefig('train_acc_curve_every_epoch.png')"
   ]
  },
  {
   "cell_type": "code",
   "execution_count": null,
   "id": "6e5590b9",
   "metadata": {},
   "outputs": [],
   "source": []
  },
  {
   "cell_type": "code",
   "execution_count": null,
   "id": "e0695ff3",
   "metadata": {},
   "outputs": [],
   "source": []
  }
 ],
 "metadata": {
  "kernelspec": {
   "display_name": "Python 3",
   "language": "python",
   "name": "python3"
  },
  "language_info": {
   "codemirror_mode": {
    "name": "ipython",
    "version": 3
   },
   "file_extension": ".py",
   "mimetype": "text/x-python",
   "name": "python",
   "nbconvert_exporter": "python",
   "pygments_lexer": "ipython3",
   "version": "3.8.8"
  }
 },
 "nbformat": 4,
 "nbformat_minor": 5
}
